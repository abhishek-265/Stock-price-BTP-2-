{
 "cells": [
  {
   "cell_type": "markdown",
   "metadata": {
    "_cell_guid": "e20a920e-c6fd-4527-883e-c714a027f1e8",
    "_uuid": "f838a20a822804d74e43db816f2ed58cd4e3302a"
   },
   "source": [
    "# Machine Learning to predict share prices in the Oil & Gas Industry"
   ]
  },
  {
   "cell_type": "markdown",
   "metadata": {
    "_cell_guid": "4595cc43-51c4-4310-a08b-9aacbfd1f728",
    "_uuid": "7a481293432955876772f8edcd22ed4e7fc8cf6c"
   },
   "source": [
    "In a nutshell, this is a quick introduction **to understand the potential of data science and machine learning used in the oil industry**. I have chosen to work with the stock price of a few oil companies (or oil service company) and the oil price dataset as an example. Just to be clear, the intention is *not* to provide an analysis of the current situation in the oil industry. The main objectives here are to show the potential and **give you the tools to create your own view** of the markets and apply it to other problems or even industries.\n",
    "\n",
    "In the low price world, reducing costs, saving time and improving safety are crucial outcomes that can be benefited from using machine learning in oil and gas operations. Find below a quick list with a few of the applications of data analysis and machine learning in the Oil & Gas upstream industry:\n",
    "\n",
    "* Optimization of valve settings in smart wells to maximize NPV.\n",
    "* Machine Learning based rock type classification\n",
    "* Big data analysis on wells downtime.\n",
    "* Data-driven production monitoring.\n",
    "* Identifications of patterns using multiple variables during exploration phase.\n",
    "* Reservoir modelling and history matching using the power of pattern recognition.\n",
    "* Drilling rig automation.\n",
    "* Additional opportunities where gather large volumes of information in real-time or by using multiple analogs.\n",
    "* Deep learning to improve the efficiency and safety of hydraulic fracturing.\n",
    "* Provide more intelligence at the wellhead.\n",
    "* Integrated asset modeling optimization using machine-learning based proxy models.\n",
    "\n",
    "I have tailored a quick exercise on how to use artificial intelligence using oil price and share price of a few companies. The notebook will focus on loading data and doing some illustrative data visualisations along the way. I will then use linear regression, cluster analysis and Random Forest to create a model predicting the share price in the short term.\n",
    "\n",
    "I have been using data analysis and machine learning in different tasks in my current and previous jobs as a Reservoir Engineer. **Excel is the most common tool** for any type of analysis in the industry. However, it is certainly limited to basic data analysis, manipulation and to construct predictive models. We understand this conservative industry is sometimes a bit reluctant or delayed implementing modern analysis and predictive workflows to drive decisions. Also, due to the lack of investment in \"lower for longer\" oil prices and not many young engineers joining us, we are behind in the race implementing these techniques.\n",
    "\n",
    "Firstly, lets start with what the list of tools required. The modern world of data science offers multiple ways of analyzing and predicting patterns. **Python is the programming language used for this exercise**. I personally use it under the umbrella of the **Anaconda distribution**. I will also be hoping to learn a lot from this exercise, so feedback is very welcome.\n",
    "\n",
    "The main libraries that we will use are:\n",
    "\n",
    "* *Numpy*: Library for multidimensional arrays with high level mathematical functions to operate them\n",
    "* *Pandas*: Works on top of Numpy, offer a great way of manipulate and analyse data.\n",
    "* *Matblotlib*: Plotting and visualization.\n",
    "* *Seaborn*: Works on top of matplotlib to provide a high level interface for attractive plotting and visualization.\n",
    "* *Scikit Learn*: Libraries for Machine Learning. In this exercise we will use the following: Linear Regression, Random Forest Regression and K-means\n",
    "\n",
    "For the purposes of this interactive quick guide, I will use these sets of data:\n",
    "\n",
    "* Oil price dataset from the U.S Energy Information administration.\n",
    "* Share price dataset from Yahoo Finance in a daily frequency from the following companies:\n",
    "\n",
    "> Shell (RDSB.L)\n",
    "\n",
    "> BP (BP.L)\n",
    "\n",
    "> Cairn Energy (CNE.L)\n",
    "\n",
    "> Premier Oil (PMO.L)\n",
    "\n",
    "> Statoil (STL.OL)\n",
    "\n",
    "> TOTAL (FP.PA)\n",
    "\n",
    "> ENGIE (ENGI.PA)\n",
    "\n",
    "> Schlumberger (SLB.PA)\n",
    "\n",
    "> REPSOL (REP.MC)\n",
    "\n",
    "There are three parts that my workflow will cover:\n",
    "\n",
    "1. Loading data and introduction to feature engineering\n",
    "\n",
    "2. Data Analysis\n",
    "\n",
    "3. Machine Learning and Prediction!\n",
    "\n",
    "I will skip sections of the code below to keep the article in a reasonable size. If you want to see the entire code with explanations, I have created the following notebook.\n",
    "\n",
    "## Lets start coding!\n"
   ]
  },
  {
   "cell_type": "markdown",
   "metadata": {
    "_cell_guid": "4e24e343-599c-4991-982f-9c9226e13244",
    "_uuid": "f3c93dc4f4bdcc4441629fce0d36e26dcc3e1831"
   },
   "source": [
    "## 1.- Loading data"
   ]
  },
  {
   "cell_type": "markdown",
   "metadata": {
    "_cell_guid": "9e5f2fc0-03e2-4350-8927-c6243075cead",
    "_uuid": "5d49689d8f36cad4ed0ef8b4d55137229c3097de"
   },
   "source": [
    "The oil primary dataset includes an excel spreadsheet with oil price and date in a daily frequency. The stock data comes in the shape of a csv file with also daily frequency. \n",
    "\n",
    "We wil load the data, read and transform it into a master dataframe. "
   ]
  },
  {
   "cell_type": "code",
   "execution_count": 1,
   "metadata": {},
   "outputs": [],
   "source": [
    "#import os\n",
    "#for dirname, _, filenames in os.walk('/kaggle/input'):\n",
    "#    for filename in filenames:\n",
    "#        print(os.path.join(dirname, filename))"
   ]
  },
  {
   "cell_type": "code",
   "execution_count": 2,
   "metadata": {
    "_cell_guid": "4aafc0e9-05a9-4c8a-a4a0-ff3852dcd689",
    "_execution_state": "idle",
    "_uuid": "299f04d3682a9da2b8e1386ade298b85cbd2e6f5"
   },
   "outputs": [],
   "source": [
    "# Start loading libraries\n",
    "\n",
    "import matplotlib.pyplot as plt\n",
    "import numpy as np\n",
    "import pandas as pd\n",
    "import seaborn as sns\n",
    "import warnings; warnings.simplefilter('ignore')\n",
    "%matplotlib inline"
   ]
  },
  {
   "cell_type": "code",
   "execution_count": 3,
   "metadata": {
    "_cell_guid": "043a8e35-6458-4665-b147-745dae204009",
    "_execution_state": "idle",
    "_uuid": "7fe60d4c795113b4c156ff2c3b7f51154118cad4"
   },
   "outputs": [
    {
     "ename": "ImportError",
     "evalue": "Missing optional dependency 'xlrd'. Install xlrd >= 1.0.0 for Excel support Use pip or conda to install xlrd.",
     "output_type": "error",
     "traceback": [
      "\u001b[0;31m---------------------------------------------------------------------------\u001b[0m",
      "\u001b[0;31mImportError\u001b[0m                               Traceback (most recent call last)",
      "\u001b[0;32m<ipython-input-3-e960ecb7a58d>\u001b[0m in \u001b[0;36m<module>\u001b[0;34m\u001b[0m\n\u001b[1;32m      1\u001b[0m \u001b[0;31m# Read oil price and transform data\u001b[0m\u001b[0;34m\u001b[0m\u001b[0;34m\u001b[0m\u001b[0;34m\u001b[0m\u001b[0m\n\u001b[1;32m      2\u001b[0m \u001b[0;34m\u001b[0m\u001b[0m\n\u001b[0;32m----> 3\u001b[0;31m \u001b[0mxls_file\u001b[0m\u001b[0;34m=\u001b[0m\u001b[0mpd\u001b[0m\u001b[0;34m.\u001b[0m\u001b[0mExcelFile\u001b[0m\u001b[0;34m(\u001b[0m\u001b[0;34m\"RBRTEd.xls\"\u001b[0m\u001b[0;34m)\u001b[0m \u001b[0;31m# Read Excel\u001b[0m\u001b[0;34m\u001b[0m\u001b[0;34m\u001b[0m\u001b[0m\n\u001b[0m\u001b[1;32m      4\u001b[0m \u001b[0mbrent\u001b[0m\u001b[0;34m=\u001b[0m\u001b[0mxls_file\u001b[0m\u001b[0;34m.\u001b[0m\u001b[0mparse\u001b[0m\u001b[0;34m(\u001b[0m\u001b[0;34m\"Data 1\"\u001b[0m\u001b[0;34m)\u001b[0m \u001b[0;31m# Read sheet Data 1\u001b[0m\u001b[0;34m\u001b[0m\u001b[0;34m\u001b[0m\u001b[0m\n\u001b[1;32m      5\u001b[0m \u001b[0mbrent\u001b[0m\u001b[0;34m.\u001b[0m\u001b[0mcolumns\u001b[0m\u001b[0;34m=\u001b[0m\u001b[0mbrent\u001b[0m\u001b[0;34m.\u001b[0m\u001b[0miloc\u001b[0m\u001b[0;34m[\u001b[0m\u001b[0;36m1\u001b[0m\u001b[0;34m]\u001b[0m \u001b[0;31m# set row 1 as column name\u001b[0m\u001b[0;34m\u001b[0m\u001b[0;34m\u001b[0m\u001b[0m\n",
      "\u001b[0;32m~/anaconda3/envs/interncv/lib/python3.6/site-packages/pandas/io/excel/_base.py\u001b[0m in \u001b[0;36m__init__\u001b[0;34m(self, path_or_buffer, engine)\u001b[0m\n\u001b[1;32m    865\u001b[0m         \u001b[0mself\u001b[0m\u001b[0;34m.\u001b[0m\u001b[0m_io\u001b[0m \u001b[0;34m=\u001b[0m \u001b[0mstringify_path\u001b[0m\u001b[0;34m(\u001b[0m\u001b[0mpath_or_buffer\u001b[0m\u001b[0;34m)\u001b[0m\u001b[0;34m\u001b[0m\u001b[0;34m\u001b[0m\u001b[0m\n\u001b[1;32m    866\u001b[0m \u001b[0;34m\u001b[0m\u001b[0m\n\u001b[0;32m--> 867\u001b[0;31m         \u001b[0mself\u001b[0m\u001b[0;34m.\u001b[0m\u001b[0m_reader\u001b[0m \u001b[0;34m=\u001b[0m \u001b[0mself\u001b[0m\u001b[0;34m.\u001b[0m\u001b[0m_engines\u001b[0m\u001b[0;34m[\u001b[0m\u001b[0mengine\u001b[0m\u001b[0;34m]\u001b[0m\u001b[0;34m(\u001b[0m\u001b[0mself\u001b[0m\u001b[0;34m.\u001b[0m\u001b[0m_io\u001b[0m\u001b[0;34m)\u001b[0m\u001b[0;34m\u001b[0m\u001b[0;34m\u001b[0m\u001b[0m\n\u001b[0m\u001b[1;32m    868\u001b[0m \u001b[0;34m\u001b[0m\u001b[0m\n\u001b[1;32m    869\u001b[0m     \u001b[0;32mdef\u001b[0m \u001b[0m__fspath__\u001b[0m\u001b[0;34m(\u001b[0m\u001b[0mself\u001b[0m\u001b[0;34m)\u001b[0m\u001b[0;34m:\u001b[0m\u001b[0;34m\u001b[0m\u001b[0;34m\u001b[0m\u001b[0m\n",
      "\u001b[0;32m~/anaconda3/envs/interncv/lib/python3.6/site-packages/pandas/io/excel/_xlrd.py\u001b[0m in \u001b[0;36m__init__\u001b[0;34m(self, filepath_or_buffer)\u001b[0m\n\u001b[1;32m     19\u001b[0m         \"\"\"\n\u001b[1;32m     20\u001b[0m         \u001b[0merr_msg\u001b[0m \u001b[0;34m=\u001b[0m \u001b[0;34m\"Install xlrd >= 1.0.0 for Excel support\"\u001b[0m\u001b[0;34m\u001b[0m\u001b[0;34m\u001b[0m\u001b[0m\n\u001b[0;32m---> 21\u001b[0;31m         \u001b[0mimport_optional_dependency\u001b[0m\u001b[0;34m(\u001b[0m\u001b[0;34m\"xlrd\"\u001b[0m\u001b[0;34m,\u001b[0m \u001b[0mextra\u001b[0m\u001b[0;34m=\u001b[0m\u001b[0merr_msg\u001b[0m\u001b[0;34m)\u001b[0m\u001b[0;34m\u001b[0m\u001b[0;34m\u001b[0m\u001b[0m\n\u001b[0m\u001b[1;32m     22\u001b[0m         \u001b[0msuper\u001b[0m\u001b[0;34m(\u001b[0m\u001b[0;34m)\u001b[0m\u001b[0;34m.\u001b[0m\u001b[0m__init__\u001b[0m\u001b[0;34m(\u001b[0m\u001b[0mfilepath_or_buffer\u001b[0m\u001b[0;34m)\u001b[0m\u001b[0;34m\u001b[0m\u001b[0;34m\u001b[0m\u001b[0m\n\u001b[1;32m     23\u001b[0m \u001b[0;34m\u001b[0m\u001b[0m\n",
      "\u001b[0;32m~/anaconda3/envs/interncv/lib/python3.6/site-packages/pandas/compat/_optional.py\u001b[0m in \u001b[0;36mimport_optional_dependency\u001b[0;34m(name, extra, raise_on_missing, on_version)\u001b[0m\n\u001b[1;32m    108\u001b[0m     \u001b[0;32mexcept\u001b[0m \u001b[0mImportError\u001b[0m\u001b[0;34m:\u001b[0m\u001b[0;34m\u001b[0m\u001b[0;34m\u001b[0m\u001b[0m\n\u001b[1;32m    109\u001b[0m         \u001b[0;32mif\u001b[0m \u001b[0mraise_on_missing\u001b[0m\u001b[0;34m:\u001b[0m\u001b[0;34m\u001b[0m\u001b[0;34m\u001b[0m\u001b[0m\n\u001b[0;32m--> 110\u001b[0;31m             \u001b[0;32mraise\u001b[0m \u001b[0mImportError\u001b[0m\u001b[0;34m(\u001b[0m\u001b[0mmsg\u001b[0m\u001b[0;34m)\u001b[0m \u001b[0;32mfrom\u001b[0m \u001b[0;32mNone\u001b[0m\u001b[0;34m\u001b[0m\u001b[0;34m\u001b[0m\u001b[0m\n\u001b[0m\u001b[1;32m    111\u001b[0m         \u001b[0;32melse\u001b[0m\u001b[0;34m:\u001b[0m\u001b[0;34m\u001b[0m\u001b[0;34m\u001b[0m\u001b[0m\n\u001b[1;32m    112\u001b[0m             \u001b[0;32mreturn\u001b[0m \u001b[0;32mNone\u001b[0m\u001b[0;34m\u001b[0m\u001b[0;34m\u001b[0m\u001b[0m\n",
      "\u001b[0;31mImportError\u001b[0m: Missing optional dependency 'xlrd'. Install xlrd >= 1.0.0 for Excel support Use pip or conda to install xlrd."
     ]
    }
   ],
   "source": [
    "# Read oil price and transform data\n",
    "\n",
    "xls_file=pd.ExcelFile(\"RBRTEd.xls\") # Read Excel\n",
    "brent=xls_file.parse(\"Data 1\") # Read sheet Data 1\n",
    "brent.columns=brent.iloc[1] # set row 1 as column name\n",
    "brent=brent[2:] # remove first 2 rows\n",
    "brent[\"Date\"]=brent[\"Date\"].astype('datetime64[ns]') # Convert column to date format\n",
    "brent.columns=[\"date\",\"oil_price\"]\n",
    "brent.head()"
   ]
  },
  {
   "cell_type": "code",
   "execution_count": null,
   "metadata": {
    "_cell_guid": "4d931ede-0561-40d5-aa3d-b34a72cbc24a",
    "_execution_state": "idle",
    "_uuid": "93242968bf84cade3deab6442866cceb4708f8cd",
    "scrolled": true
   },
   "outputs": [],
   "source": [
    "brent.info()"
   ]
  },
  {
   "cell_type": "markdown",
   "metadata": {
    "_cell_guid": "ddc7862d-3723-4f3a-80ad-b5d6b06d9a21",
    "_uuid": "05b4cf11a05864c8e1768ba5cb34a9bb48aba32c"
   },
   "source": [
    "Now we have just loaded, transformed and checked our oil data. Whats left? read and transform the share price data before starting analysis. I will skip showing the code of this section to focus right to the point. "
   ]
  },
  {
   "cell_type": "code",
   "execution_count": null,
   "metadata": {
    "_cell_guid": "7db48c94-d017-4aaa-a2d1-3645f070429c",
    "_execution_state": "idle",
    "_uuid": "2f57b91211ba60d14ae53fa2aedf562ed97e2835"
   },
   "outputs": [],
   "source": [
    "# Loop to read all share price files and transform data\n",
    "shares=[\"RDSB.L\",\"BP.L\",\"CNE.L\",\"PMO.L\",\"STL.OL\",\"FP.PA\",\"REP.MC\",\"ENGI.PA\",\"SLB.PA\"]\n",
    "\n",
    "all_data=pd.DataFrame() # here we will store all the data from all shares and oil price in a master dataframe\n",
    "for index in range(len(shares)):\n",
    "    stock=pd.DataFrame()\n",
    "\n",
    "# 1.- Read files\n",
    "    stock=pd.read_csv(\"../input/\"+shares[index]+\".csv\")     \n",
    "# 2.- Transform data\n",
    "    stock=stock[[\"Date\",\"Close\"]]       \n",
    "    stock[\"Date\"]=stock[\"Date\"].astype('datetime64[ns]')\n",
    "    stock.columns=[\"date\",\"share_price\"]\n",
    "    test=pd.DataFrame(brent) # VLOOKUP equivalent in Python to merge 2 sets of data\n",
    "    output=stock.merge(test,on=\"date\",how=\"left\")\n",
    "    stock[\"oil_price\"]=output[\"oil_price\"]\n",
    "    stock['share_price']=pd.to_numeric(stock['share_price'], errors='coerce').dropna(0)\n",
    "    stock['oil_price']=pd.to_numeric(stock['oil_price'], errors='coerce').dropna(0)\n",
    "    stock[\"year\"]=pd.to_datetime(stock[\"date\"]).dt.year # Create a column with the year to filter later\n",
    "    stock[\"name\"]=shares[index]\n",
    "    stock = stock.dropna() # get rid of all the NAN rows.\n",
    "# 3.- Feature Engineering. Create new column with scaled share price from 0 to 1.\n",
    "#     This will help us comparing companies later on.\n",
    "    from sklearn.preprocessing import MinMaxScaler\n",
    "    scaler=MinMaxScaler()\n",
    "    stock[\"share_price_scaled\"]=scaler.fit_transform(stock[\"share_price\"].to_frame())\n",
    "# 4.- Append data to a master dataframe\n",
    "    all_data=all_data.append(stock) #append data to one matrix\n",
    "    \n",
    "all_data.head()"
   ]
  },
  {
   "cell_type": "markdown",
   "metadata": {
    "_cell_guid": "3e30c44e-77f8-4cda-ac8c-ae2a3b531800",
    "_uuid": "b12e44a0f131697896989ae62cbb4a0ce9b4a160"
   },
   "source": [
    "## 2.- Data Analysis"
   ]
  },
  {
   "cell_type": "markdown",
   "metadata": {
    "_cell_guid": "ef67a393-1c70-4280-85e1-c4e4204244b7",
    "_uuid": "11b292f357fbd162b3438dd95f1957a1cd8c01ba"
   },
   "source": [
    "To explore the universe, we will start with some practical recipes to make sense of our data. This analysis contains a few of the tools with the purpose of exploring different visualisations that can be useful in a Machine Learning problem. It is not going to be a detailed analysis and I am not going to bring additional features like key events or other metrics to try to explain the patterns in the plots. Again, **the idea is to show you a glimpse of the potential of data analysis with python**.\n",
    "\n",
    "Here is an outline of the main charts that we will make:\n",
    "\n",
    "2.1.- Simple line plot oil price\n",
    "\n",
    "2.2.- Pairplot on BP share price from years 2000 to 2017 using a color gradient for different years\n",
    "\n",
    "2.3.- Pairplot on BP share price using last five years\n",
    "\n",
    "2.4.- Violin plot of the oil price\n",
    "\n",
    "2.5.- Violin plot of the share price of several oil&gas companies\n",
    "\n",
    "2.6.- Jointplot comparison of Premier Oil and Statoil\n",
    "\n",
    "2.7.- Plot of oil price vs share price of different companies using different templates\n"
   ]
  },
  {
   "cell_type": "markdown",
   "metadata": {
    "_cell_guid": "9a55f689-3af8-40cb-a9e0-05b741881b97",
    "_uuid": "bc8a60c09da9440734389b16532bb9c7d9e16660"
   },
   "source": [
    "### 2.1 Simple line plot oil price"
   ]
  },
  {
   "cell_type": "code",
   "execution_count": null,
   "metadata": {
    "_cell_guid": "1bdd8cd4-aaea-4b90-a00c-e40527e50aac",
    "_execution_state": "idle",
    "_uuid": "6ecc0790f8598e35f55b9045f5111c2691d9529e"
   },
   "outputs": [],
   "source": [
    "brent[['date','oil_price']].set_index('date').plot(color=\"green\", linewidth=1.0)  "
   ]
  },
  {
   "cell_type": "markdown",
   "metadata": {
    "_cell_guid": "756e508f-b812-4a25-b1a5-fc2479a1679b",
    "_execution_state": "idle",
    "_uuid": "e503639be702e504be430549d45bceb9c909a675"
   },
   "source": [
    "To begin with a more advanced data analysis, we will create a **pairplot using seaborn** to analyse BP share price. "
   ]
  },
  {
   "cell_type": "markdown",
   "metadata": {
    "_cell_guid": "3956e436-32da-4c4f-9ed0-952c4ba7b1b3",
    "_uuid": "0fc8a66419feaa187ce1b06b02e21616b71f0a80"
   },
   "source": [
    "### 2.2.- Pairplot on BP share price from years 2000 to 2017 using a color gradient for different years"
   ]
  },
  {
   "cell_type": "code",
   "execution_count": null,
   "metadata": {
    "_cell_guid": "fe8a9c27-c9fc-4b88-bbbd-1c02b2b30b7b",
    "_execution_state": "idle",
    "_uuid": "f8602fb1889f61150f5f60115075a4c5b1cc8220"
   },
   "outputs": [],
   "source": [
    "#==============================================================================\n",
    "# Pairplot using master data table (all_data) with a filter on BP share price\n",
    "#==============================================================================\n",
    "palette=sns.cubehelix_palette(18, start=2, rot=0, dark=0, light=.95, reverse=False)\n",
    "sns.pairplot(all_data[all_data['name']==\"BP.L\"].drop([\"share_price_scaled\"],axis=1),\n",
    "             hue=\"year\",palette=palette,size=4,markers=\"o\",\n",
    "             plot_kws=dict(s=50, edgecolor=\"b\", linewidth=0))\n"
   ]
  },
  {
   "cell_type": "markdown",
   "metadata": {
    "_cell_guid": "7c91a89a-26d1-447a-8f7d-54d870628e73",
    "_uuid": "df89ef77412bc2fd6727733b9ebe7eb206736911"
   },
   "source": [
    "The **pairplot shows all the pairwise relationships in a dataset and the univariate distribution** of the data for each variable. It gives us a reasonable idea about variable relationships. I have also built a palette with a gradient color with increasing darkness with time. Have a look at the combination of oil price vs BP share price in the top-center plot.  \n",
    "\n",
    "Firstly, see how it evolves doing a zigzag with both time and oil price. Then see where we are in 2017... **looks like unexplored terrain!** Notice also the differences in distribution simetries comparing the oil price and share prices. Bear in mind this is just a basic analysis on an oil company, with a specific characteristics like size, different events during the last 17 years. Later on we will compare different companies.\n",
    "\n",
    "Now that we have taken care of making a plot for BP, you can try to do it for the rest of the companies or comparing different types of data.\n",
    "\n",
    "There is much more information that can be extracted from this plot, but we will stop here and keep going to next step. Lets try to filter in the last five years where we are covering a large spectrum in the oil price and see if we see more. "
   ]
  },
  {
   "cell_type": "markdown",
   "metadata": {
    "_cell_guid": "c6d51b17-1497-4968-872c-bb56921d3b8b",
    "_uuid": "417ae37fc774144ce380e3fcb2bd2ef09da55670"
   },
   "source": [
    "### 2.3.- Pairplot on BP share price using last five years"
   ]
  },
  {
   "cell_type": "code",
   "execution_count": null,
   "metadata": {
    "_cell_guid": "b7f0de4d-19f9-4180-a548-db5bf7a6f2fb",
    "_execution_state": "idle",
    "_uuid": "0d974eafa3ecfcbcd74a72b669359322af0df186"
   },
   "outputs": [],
   "source": [
    "#==============================================================================\n",
    "# Pairplot on less data 2013 to 2017 using Royal Dutch Shell (LON) stock price\n",
    "#==============================================================================\n",
    "\n",
    "# Just for the last 5 years\n",
    "all_data13=all_data[all_data[\"year\"]>2012]\n",
    "palette=sns.cubehelix_palette(5, start=2, rot=0, dark=0, light=.95, reverse=False)\n",
    "sns.pairplot(all_data13[all_data13['name']==\"RDSB.L\"].drop([\"share_price_scaled\"],axis=1),\n",
    "             hue=\"year\",palette=palette,size=4,markers=\"o\",\n",
    "             plot_kws=dict(s=50, edgecolor=\"b\", linewidth=0))\n"
   ]
  },
  {
   "cell_type": "markdown",
   "metadata": {
    "_cell_guid": "aaa14f79-336f-4d28-997a-ea884a183d38",
    "_uuid": "a37daa9fe84e4906030cfc7b0cf01c259a45058e"
   },
   "source": [
    "Ah hah, here we see a bit more. In the last five years the distribution tells us that the oil price have been mostly **swinging in between 30 to 60 usd/bbl and 100 to 120 usd/bbl**. Between 60 and 100 usd/bbl not much data... Also we see a positive with high confidence correlation for years 2016/17 of share price and oil price. Notice, the year when everything changed for this company was 2014, we will see later if that's the case for other companies. In 2014, there is a change in pattern correlations and high variability of data. That was the **boundary between the two worlds**, two market behaviors, a change in regime irrespective of the independent events of the company. Several interpretations can be obtained from this plot. I will not plot this for all the other companies.\n",
    "\n",
    "## What's next? \n",
    "\n",
    "To have a bit of a feeling on how sensitive is the stock of each company to the oil price we will build a few violin plots. This is basically a box plot with the probability density data."
   ]
  },
  {
   "cell_type": "markdown",
   "metadata": {
    "_cell_guid": "2ec6566f-3751-416c-af79-538fe9f3e17b",
    "_uuid": "5347217ba8bf1134bd2c91800c00763408143f27"
   },
   "source": [
    "### 2.4.- Violin plot of the oil price"
   ]
  },
  {
   "cell_type": "code",
   "execution_count": null,
   "metadata": {
    "_cell_guid": "57575a1b-27d6-450b-a3d2-0f895214ae45",
    "_execution_state": "idle",
    "_uuid": "207ebdf9b533540b0769d44f192dc42db6b3cf48"
   },
   "outputs": [],
   "source": [
    "#==============================================================================\n",
    "# Violin Plot Oil price on last 5 years\n",
    "#==============================================================================\n",
    "\n",
    "sns.set_style(\"whitegrid\")\n",
    "palette=sns.cubehelix_palette(5, start=2.8, rot=0, dark=0.2, light=0.8, reverse=False)\n",
    "\n",
    "sns.violinplot(x=\"year\", y=\"oil_price\", data=all_data13[all_data13['name']==\"RDSB.L\"],\n",
    "               inner=\"quart\", palette=palette, trim=True)\n"
   ]
  },
  {
   "cell_type": "markdown",
   "metadata": {
    "_cell_guid": "9f7d8401-9754-47fe-8028-8dc9d96a5a7f",
    "_uuid": "239d607ce0d1c67e4314b3e0817d602641cb945b"
   },
   "source": [
    "### 2.5.- Violin plot of the share price of several Oil and Gas companies"
   ]
  },
  {
   "cell_type": "code",
   "execution_count": null,
   "metadata": {
    "_cell_guid": "2673f813-8d0c-4803-9d06-62274c92779f",
    "_execution_state": "idle",
    "_uuid": "4c7ada4186f030be8c37fcb88764bc8c2ba7b3a3"
   },
   "outputs": [],
   "source": [
    "#==============================================================================\n",
    "# Violin Plot Oil price on last 5 years\n",
    "#==============================================================================\n",
    "\n",
    "sns.factorplot(x=\"year\", y=\"share_price_scaled\", col='name', col_wrap=3,kind=\"violin\",\n",
    "               split=True, data=all_data13,inner=\"quart\", palette=palette, trim=True,size=4,aspect=1.2)\n",
    "sns.despine(left=True)"
   ]
  },
  {
   "cell_type": "markdown",
   "metadata": {
    "_cell_guid": "0d7b5b20-f55d-447b-975b-9fec1a935d79",
    "_uuid": "aa48b98b42e750c365438b40d0972ae04c764fe9"
   },
   "source": [
    "Just a quick note on the large range of the oil price during 2014, however the variability in the stock price range and distribution for different companies was different. A few companies were more sensitive than others. Notice that all the stock prices are scaled between 0 and 1 using its max/min values in the last 20 years approx. **That may cause missleading interpretations**. This is just an exercise to do a bit of data analysis using the shape and patterns as a third dimension. \n",
    "\n",
    "The next plot is an attempt to **draw two variables with bivariate and univariate graphs**. Just a different way of visualizing data using a jointplot. The example is with Premier Oil share price."
   ]
  },
  {
   "cell_type": "markdown",
   "metadata": {
    "_cell_guid": "91fdc4d7-ed8d-482b-9ec0-bafeba617bae",
    "_uuid": "418cef921b43eae4726c67e37ee2b71da9745f2a"
   },
   "source": [
    "### 2.6.- Jointplot comparison of Premier Oil and Statoil"
   ]
  },
  {
   "cell_type": "code",
   "execution_count": null,
   "metadata": {
    "_cell_guid": "1d87a5b5-c79e-4d27-a4d0-7d191a3bdaef",
    "_execution_state": "idle",
    "_uuid": "c0d0a53c711a417d0ed9a2e6d77c172f0a1ca4b6"
   },
   "outputs": [],
   "source": [
    "#==============================================================================\n",
    "# joint plot using 5 years for Premier Oil\n",
    "#==============================================================================\n",
    "\n",
    "sns.jointplot(\"oil_price\", \"share_price\",data=all_data13[all_data13['name']==\"PMO.L\"],kind=\"kde\",\n",
    "              hue=\"year\",size=6,ratio=2,color=\"red\").plot_joint(sns.kdeplot, zorder=0, n_levels=20)\n"
   ]
  },
  {
   "cell_type": "code",
   "execution_count": null,
   "metadata": {
    "_cell_guid": "7e58eebb-6c6e-48c3-aac7-0a37583a9f3c",
    "_execution_state": "idle",
    "_uuid": "566fe311bfdff8b7fe3b5e27a5d40753bcdb6c0b"
   },
   "outputs": [],
   "source": [
    "#==============================================================================\n",
    "# joint plot using 5 years for Statoil\n",
    "#==============================================================================\n",
    "\n",
    "sns.jointplot(\"oil_price\", \"share_price\",data=all_data13[all_data13['name']==\"STL.OL\"],kind=\"kde\",\n",
    "              hue=\"year\",size=6,ratio=2,color=\"blue\").plot_joint(sns.kdeplot, zorder=0, n_levels=20)\n"
   ]
  },
  {
   "cell_type": "markdown",
   "metadata": {
    "_cell_guid": "72211e57-c104-474c-ac13-4d4c4b91307a",
    "_uuid": "1d35f1e05ccd3892f6fbc47471bfd125dac1bad2"
   },
   "source": [
    "Notice the difference in share price distribution for the two companies and the shape of the density chart. "
   ]
  },
  {
   "cell_type": "markdown",
   "metadata": {
    "_cell_guid": "fb100795-7448-4a71-a70c-465580663d96",
    "_uuid": "4a9328acc2d4adf3f9e45b261aefb8f95405633b"
   },
   "source": [
    "### 2.7.- Plot of oil price vs share price of different companies using different templates"
   ]
  },
  {
   "cell_type": "markdown",
   "metadata": {
    "_cell_guid": "60a2aed6-a444-44a6-96d1-a2fae8674b55",
    "_uuid": "520483075e37c5b5854621252a78fb2e4fa1c853"
   },
   "source": [
    "The next analysis will do a grid of charts for all companies to check if we see any patterns."
   ]
  },
  {
   "cell_type": "code",
   "execution_count": null,
   "metadata": {
    "_cell_guid": "4ffa00d4-f713-4872-8002-8f1644253b6f",
    "_execution_state": "idle",
    "_uuid": "f931a09b27b0a6bc7b55663588167d1067069c9f"
   },
   "outputs": [],
   "source": [
    "#==============================================================================\n",
    "# lmplot using using 5 years for all companies\n",
    "#==============================================================================\n",
    "\n",
    "sns.lmplot(x=\"oil_price\", y=\"share_price_scaled\", col=\"name\",ci=None, col_wrap=3, \n",
    "           data=all_data13, order=1,line_kws={'color': 'blue'},scatter_kws={'color': 'grey'}).set(ylim=(0, 1))\n"
   ]
  },
  {
   "cell_type": "markdown",
   "metadata": {
    "_cell_guid": "68409b4e-31f5-4e00-a759-a2a9df3ebc9c",
    "_uuid": "9e8cdcd57f691dc9c599425e96430a3015c0a77b"
   },
   "source": [
    "We dont really see that much on that chart. Lets add different colors for each year and see if correlations are telling us anything."
   ]
  },
  {
   "cell_type": "code",
   "execution_count": null,
   "metadata": {
    "_cell_guid": "a853e1f6-c29b-44fa-8a10-e9d9d6ffa491",
    "_execution_state": "idle",
    "_uuid": "e86d14bc57c8253c5a90e8dc34683384ad6bb73b",
    "scrolled": false
   },
   "outputs": [],
   "source": [
    "palette=sns.cubehelix_palette(5, start=2, rot=0, dark=0, light=.95, reverse=False)\n",
    "sns.lmplot(x=\"oil_price\", y=\"share_price_scaled\",hue=\"year\", col=\"name\",ci=None, \n",
    "           col_wrap=3, data=all_data13, order=1,palette=palette,size=4).set(ylim=(0, 1))"
   ]
  },
  {
   "cell_type": "markdown",
   "metadata": {
    "_cell_guid": "5180e10c-0142-4eff-9153-f4d38e4adc1e",
    "_uuid": "81828e8baceff41eb185283837b251884e04781b"
   },
   "source": [
    "Interestingly, there are a few patterns that can be easily identified visually in some companies. Is it may be related to company attributes? Some others we can see had different trends for similar range of oil prices but different years. That could be related to the exploration premium a few years back or may other events/facts. I will leave you do the detailed interpretation. In any way, I am sure some of  you will find this chart quite hypnotic."
   ]
  },
  {
   "cell_type": "markdown",
   "metadata": {
    "_cell_guid": "bb3e3be5-fe06-4b2e-a6f5-0248532dddf7",
    "_uuid": "0eed353bcd3238492701f32899b96a5aa3dc6bbd"
   },
   "source": [
    "## 3.- Machine Learning and Prediction"
   ]
  },
  {
   "cell_type": "markdown",
   "metadata": {
    "_cell_guid": "1e2f63d8-9d1b-4dd2-b7e0-bd2cd3bd0000",
    "_uuid": "298863a541f7707dade75e7144d08675db9f0bfc"
   },
   "source": [
    "Essentially machine learning is the **application of artificial intelligence to learn** and improve experience without being explicitly programmed. Usually machine learning algorithms can be categorized as **supervised or unsupervised**.\n",
    "\n",
    "* **Supervised learning** is where you have a few input variables and an output variable. Basically the algorithm is used to \"learn\" the mapping function from the input to the output. The goal is to minimize the error of the mapping function so when you have new input data you can predict the output variables. Most of the problems in machine learning use supervised learning. As you can imagine, the applications of this algorithms are endless. \n",
    "\n",
    "   - Another subclassification of supervised learning problems can be grouped in a classification problem, when the output is a category (i.e. \"buy\" or \"sell\") or regression where the output is a real value (i.e. \"how much money?\" or \"speed of car\".\n",
    "\n",
    "* **Unsupervised learning** is where you have only input data and no corresponding output variables. Basically the algorithm is used to model the structure or distribution in the data. A common unsupervised learning problem is clustering, to discover groupings of data or find patterns (i.e. groups of people by purchasing behavior).\n",
    "\n",
    "Here is an outline of the machine learning problems that we will solve:\n",
    "\n",
    "    3.1.- Cluster analysis on Shell data\n",
    "    3.2.- Linear regression on Royal Dutch Shell share price vs oil price\n",
    "    3.3.- Random Forest on Royal Dutch Shell share price vs oil price\n",
    "\n",
    "A potential application of this algorithms would be to evaluate the relative value of the share compared to the oil price. Thus, it can give you an indication if the share is *overpriced* or *undervalued*. However, the objective of this exercise is to provide the tools to unlock the potential of Machine Learning in the oil industry. "
   ]
  },
  {
   "cell_type": "markdown",
   "metadata": {
    "_cell_guid": "d140c987-7954-44d9-b174-423475acd056",
    "_uuid": "e8d5a84e1c2d09ce79babdb3ed6a688349f94228"
   },
   "source": [
    "### 3.1.- Cluster analysis on Shell data"
   ]
  },
  {
   "cell_type": "markdown",
   "metadata": {
    "_cell_guid": "2ba73dc8-4639-405b-892c-d2ec41d4b13a",
    "_uuid": "906cb0e4a01e97a13b780c9257855401616b4206"
   },
   "source": [
    "In the following example we will divide the data from *Royal Dutch Shell* into **6 groups using cluster analysis**. Clustering is the task of grouping a set of objects in such a way that objects in the same group are more similar to each other than to those in other groups. If you want to understand a bit more about clustering, see references."
   ]
  },
  {
   "cell_type": "code",
   "execution_count": null,
   "metadata": {
    "_cell_guid": "04ea98e3-865d-462e-aa6c-af01a9603901",
    "_execution_state": "idle",
    "_uuid": "7787a6bba6f14061f7f6fe8b7253d7ae0b132fd0"
   },
   "outputs": [],
   "source": [
    "#==============================================================================\n",
    "# Unsupervised Learning - Cluster analysis on Shell data\n",
    "#==============================================================================\n",
    "from sklearn.cluster import KMeans\n",
    "\n",
    "shell=pd.DataFrame()\n",
    "shell=all_data13[all_data13['name']==\"RDSB.L\"]\n",
    "# We need to scale also oil price, so clustering is not influenced by the relative size of one axis.\n",
    "shell[\"oil_price_scaled\"]=scaler.fit_transform(shell[\"oil_price\"].to_frame())\n",
    "shell[\"cluster\"] = KMeans(n_clusters=6, random_state=1).fit_predict(shell[[\"share_price_scaled\",\"oil_price_scaled\"]])\n",
    "\n",
    "# The 954 most common RGB monitor colors https://xkcd.com/color/rgb/\n",
    "colors = [\"baby blue\", \"amber\", \"scarlet\", \"grey\",\"milk chocolate\", \"windows blue\"]\n",
    "palette=sns.xkcd_palette(colors)\n",
    "\n",
    "sns.lmplot(x=\"oil_price\", y=\"share_price_scaled\",ci=None,palette=palette, hue=\"cluster\",fit_reg=0 ,data=shell)\n"
   ]
  },
  {
   "cell_type": "markdown",
   "metadata": {
    "_cell_guid": "08eaae5d-17f2-4b51-851e-f05ce001852a",
    "_uuid": "d17c20e374751101305d2deab6d2a9eb413c4614"
   },
   "source": [
    "There are many application of practical problems using cluster analysis. In this example we are just using it for data visualization and grouping. "
   ]
  },
  {
   "cell_type": "markdown",
   "metadata": {
    "_cell_guid": "1325ac49-361f-4920-916e-aecaa53ee3b7",
    "_uuid": "5a2c351ab8bc05cd5b358ae2a21a3a9039c7b0c1"
   },
   "source": [
    "### 3.2.- Linear regression on Royal Dutch Shell share price vs oil price"
   ]
  },
  {
   "cell_type": "markdown",
   "metadata": {
    "_cell_guid": "5974fc8d-3d74-4b74-aed6-436c76227d74",
    "_uuid": "3a58930d411ae42c20d68a531b4534365bf4608e"
   },
   "source": [
    "Next we will construct a simple linear regression model using supervised learning. The objective is to evaluate the **prediction of data from the last 100 days using data trained from years 2016/17** (excluding test data). Train data is the data used to construct the model and test data is the data we are trying to predict."
   ]
  },
  {
   "cell_type": "code",
   "execution_count": null,
   "metadata": {
    "_cell_guid": "9aa319e6-b618-4eed-896b-7bdaf51db93b",
    "_execution_state": "idle",
    "_uuid": "aa88b3de8643db96f1513fa31ee30ee3f052d01e"
   },
   "outputs": [],
   "source": [
    "#==============================================================================\n",
    "# Supervised learning linear regression\n",
    "#==============================================================================\n",
    "\n",
    "from sklearn import linear_model\n",
    "\n",
    "# 1.- Data preparation\n",
    "shell15=pd.DataFrame()\n",
    "shell15=all_data13[(all_data13['name']==\"RDSB.L\") & (all_data13['year']>2015 )] # Extract data from years 2016/17\n",
    "shell15=shell15[[\"share_price\",\"oil_price\"]].reset_index()\n",
    "\n",
    "# Just using 1 variable for linear regression. To try with more variables use randomforest\n",
    "# Split the data into training/testing sets\n",
    "train = shell15[:-100]\n",
    "test = shell15[-100:]\n",
    "\n",
    "x_train=train[\"oil_price\"].to_frame() #converts the pandas Series to numpy.ndarray\n",
    "y_train=train['share_price'].to_frame()\n",
    "x_test=test[\"oil_price\"].to_frame() #converts the pandas Series to numpy.ndarray\n",
    "y_test=test['share_price'].to_frame()\n",
    "\n",
    "# 2.- Create linear regression object\n",
    "regr = linear_model.LinearRegression()\n",
    "\n",
    "# 3.- Train the model using the training sets\n",
    "regr.fit(x_train,y_train)\n",
    "\n",
    "# The coefficients\n",
    "print(\"Coefficients: \",  float(regr.coef_))\n",
    "# The mean squared error\n",
    "print(\"Mean squared error: %.2f\"\n",
    "      % np.mean((regr.predict(x_train) - y_train) ** 2))"
   ]
  },
  {
   "cell_type": "code",
   "execution_count": null,
   "metadata": {
    "_cell_guid": "c9b229f4-d81b-42cb-9f51-faef822aa8bd",
    "_execution_state": "idle",
    "_uuid": "e0b7045cb4b6b385eb6a3a2627b5d315bd78b0b0"
   },
   "outputs": [],
   "source": [
    "# Plot outputs using matplotlib\n",
    "plt_train=plt.scatter(x_train, y_train,  color='grey')\n",
    "plt_test=plt.scatter(x_test, y_test,  color='green')\n",
    "plt.plot(x_train, regr.predict(x_train), color='black', linewidth=3)\n",
    "plt.plot(x_test,regr.predict(x_test),  color='black', linewidth=3)\n",
    "plt.xlabel(\"oil_price\")\n",
    "plt.ylabel(\"share_price\")\n",
    "plt.legend((plt_train, plt_test),(\"train data\", \"test data\"))\n",
    "plt.show()\n"
   ]
  },
  {
   "cell_type": "markdown",
   "metadata": {
    "_cell_guid": "ec25e761-f638-41fe-b3c1-35c469c78186",
    "_uuid": "69caa02f13f57996df9f99c360d016bf8c8dc738"
   },
   "source": [
    "In the chart above you can see an approximation of how **Linear Regression** is fit and trying to predict results from test data. It looks like the prediction data is quite off for lower oil prices. The mean square error of this predictive method is 23210.67. Lets see how a more sofisticated method does on this topic. We are going to work using random forest algorithm."
   ]
  },
  {
   "cell_type": "markdown",
   "metadata": {
    "_cell_guid": "302f8f0e-f93d-4a5b-bbc5-0391c4799138",
    "_uuid": "70577e0fc68caf6f3597446953f4d8a1972fbd55"
   },
   "source": [
    "### 3.3.- Random Forest on Royal Dutch Shell share price vs oil price"
   ]
  },
  {
   "cell_type": "markdown",
   "metadata": {
    "_cell_guid": "f542d2ff-6de8-433d-8982-93adf9fd7ccf",
    "_uuid": "448dc21b468d0bf75d62e358d11f78d63d8c34fc"
   },
   "source": [
    "**Random forest** is an ensemble tool which takes a subset of observations and a subset of variables to build a decision trees. It builds multiple such decision tree and amalgamate them together to get a more accurate and stable prediction.\n",
    "\n",
    "Random forest algorithm **accepts more than one variable** in the input data to predict the output. It runs very efficiently on large databases, its very accurate, can handle many input variables, it has effective methods for estimating missing data and many more advantages. **The main disadvantage is overfitting** for some tasks or some sets of data. That leads with innacurate predictions. It is also biased in favor of categorical attributes(if used) with more levels. In anycase we are gonna give it a go.\n",
    "\n",
    "In top of the oil price, we are going to use other variables to predict the share price of Shell. These are going to be the prices of Premier Oil, Cairn Energy, TOTAL and ENGIE. I know this doesn't make much sense, but we just want to see how to construct a model of this type. It will allow us to see the impact of each one on the final prediction."
   ]
  },
  {
   "cell_type": "code",
   "execution_count": null,
   "metadata": {
    "_cell_guid": "45a74365-1542-4e00-8125-48043aa9ea27",
    "_execution_state": "idle",
    "_uuid": "95d562679f9859439eff8f5b066f3fcd7db80974"
   },
   "outputs": [],
   "source": [
    "from sklearn.ensemble import RandomForestRegressor\n",
    "# 1.- Data Preparation\n",
    "shell15=pd.DataFrame()\n",
    "shell15=all_data13[(all_data13['name']==\"RDSB.L\") & (all_data13['year']>2015 )]\n",
    "shell15=shell15[[\"share_price\",\"oil_price\"]].reset_index()\n",
    "\n",
    "# Load share price of other variables\n",
    "shell15['PMO.L']=all_data13[(all_data13['name']==\"PMO.L\")][-373:].reset_index()['share_price']\n",
    "shell15['CNE.L']=all_data13[(all_data13['name']==\"CNE.L\")][-373:].reset_index()['share_price']\n",
    "shell15['FP.PA']=all_data13[(all_data13['name']==\"FP.PA\")][-373:].reset_index()['share_price']\n",
    "shell15['ENGI.PA']=all_data13[(all_data13['name']==\"ENGI.PA\")][-373:].reset_index()['share_price']\n",
    "\n",
    "train = shell15[:-100]\n",
    "test = shell15[-100:]\n",
    "\n",
    "x_train=train[[\"oil_price\",\"PMO.L\",\"CNE.L\",\"FP.PA\",\"ENGI.PA\"]]\n",
    "y_train=train['share_price']\n",
    "\n",
    "x_test=test[[\"oil_price\",\"PMO.L\",\"CNE.L\",\"FP.PA\",\"ENGI.PA\"]] \n",
    "y_test=test['share_price'].to_frame()\n",
    "\n",
    "\n",
    "# 2.- Create Randomforest object usinig a max depth=5\n",
    "regressor = RandomForestRegressor(n_estimators=200, max_depth=5 )\n",
    "\n",
    "# 3.- Train data\n",
    "clf=regressor.fit(x_train, y_train)\n",
    "\n",
    "# 4.- Predict!\n",
    "y_pred=regressor.predict(x_test)\n",
    "y_pred=pd.DataFrame(y_pred)"
   ]
  },
  {
   "cell_type": "code",
   "execution_count": null,
   "metadata": {
    "_cell_guid": "4269f9df-3ef4-426f-a4f2-358c19e18bfe",
    "_execution_state": "idle",
    "_uuid": "af1f3476d62de83ac18189418fdfef5eb11af56e"
   },
   "outputs": [],
   "source": [
    "# We are going to have a look at how fitted data looks like:\n",
    "\n",
    "plt_train=plt.scatter(x_train[\"oil_price\"],y_train,   color='grey')\n",
    "plt_pred=plt.scatter(shell15[\"oil_price\"], regressor.predict(shell15[[\"oil_price\",\"PMO.L\",\"CNE.L\",\"FP.PA\",\"ENGI.PA\"]]),  color='black')\n",
    "\n",
    "plt.xlabel(\"oil_price\")\n",
    "plt.ylabel(\"share_price\")\n",
    "plt.legend((plt_train,plt_pred),(\"train data\",\"prediction\"))\n",
    "plt.show()"
   ]
  },
  {
   "cell_type": "markdown",
   "metadata": {
    "_cell_guid": "2efd3e3d-052e-4a74-b62d-a2ad0e1dc00e",
    "_uuid": "bf30183eadd80ad3bc187ed990e6b4d3e99f4057"
   },
   "source": [
    "The model looks really good just predicting the training data. Probably with quite a bit of **overfitting**. There are many parameters to tune, but a key one is max depth. This will provide the depth of the trees. The higher the number the more overfitting you will have, depending on the type of data. We will have a look now to how this model predicts or test data."
   ]
  },
  {
   "cell_type": "code",
   "execution_count": null,
   "metadata": {
    "_cell_guid": "8bea3137-096a-44c4-9594-4e507c3f041b",
    "_execution_state": "idle",
    "_uuid": "9add868784b835cd23ab36f801a493fce73ea647"
   },
   "outputs": [],
   "source": [
    "plt_train=plt.scatter(x_train[\"oil_price\"],y_train,   color='grey')\n",
    "plt_test=plt.scatter(x_test[\"oil_price\"],y_test,   color='green')\n",
    "plt_pred=plt.scatter(x_test[\"oil_price\"], y_pred,  color='black')\n",
    "\n",
    "plt.xlabel(\"oil_price\")\n",
    "plt.ylabel(\"share_price\")\n",
    "plt.legend((plt_train, plt_test,plt_pred),(\"train data\", \"test data\",\"prediction\"))\n",
    "plt.show()"
   ]
  },
  {
   "cell_type": "code",
   "execution_count": null,
   "metadata": {
    "_cell_guid": "20686ad1-b460-4bb8-bc65-5716fc544ff3",
    "_execution_state": "idle",
    "_uuid": "020be7a6fd7aa47dfe6405425efc07647d66ab0e"
   },
   "outputs": [],
   "source": [
    "# The mean squared error\n",
    "print(\"Mean squared error: %.2f\"\n",
    "      % np.mean((regressor.predict(x_train) - y_train) ** 2))\n"
   ]
  },
  {
   "cell_type": "markdown",
   "metadata": {
    "_cell_guid": "17a9e052-a983-457d-9ae1-5c2e3581a641",
    "_uuid": "d287a65f2d9fa915dfc115a10116939f030d9703"
   },
   "source": [
    "The prediction on the test data looks much better now, still somehow innacurate for lower oil price environment. If you see the mean squared error, we manage to reduce the error from 23210 to 2709. That is **10 times lower than using linear regression**. \n",
    "\n",
    "It is always worth to give it a check to the importance of each parameter:"
   ]
  },
  {
   "cell_type": "code",
   "execution_count": null,
   "metadata": {
    "_cell_guid": "dc12b09b-29b1-4de8-9d17-c31854329e81",
    "_execution_state": "idle",
    "_uuid": "176b009d44b90386114dd1ae7b4647c2965ac7c9"
   },
   "outputs": [],
   "source": [
    "importances=regressor.feature_importances_\n",
    "\n",
    "indices=list(x_train)\n",
    "print(\"Feature ranking:\")\n",
    "\n",
    "for f in range(x_train.shape[1]):\n",
    "    print(\"Feature %s (%f)\" % (indices[f], importances[f]))\n",
    "\n",
    "f, (ax1) = plt.subplots(1, 1, figsize=(8, 6), sharex=True)\n",
    "sns.barplot(indices, importances, palette=\"BrBG\", ax=ax1)\n",
    "ax1.set_ylabel(\"Importance\")"
   ]
  },
  {
   "cell_type": "markdown",
   "metadata": {
    "_cell_guid": "5f6e5acc-a5d5-496c-9314-2898cf053eb3",
    "_uuid": "39d5c617cb75c4eba708ae9a3db07092425343c8"
   },
   "source": [
    "It's interesting to see how the importance of the share price of TOTAL is higher than the oil price. This is mostly because they are similar size companies that behave in a similar way.\n",
    "\n",
    "Just as a summary, you have now the tools to start your own little project or even to understand how this works. Through this article, I hope I have helped you to start thinking more on how you can unlock the value of machine learning in your area.\n",
    "\n",
    "\n",
    "Javier Bravo\n",
    "\n"
   ]
  },
  {
   "cell_type": "markdown",
   "metadata": {
    "_cell_guid": "dfec24f5-777c-4586-82e2-48c2c7484f41",
    "_execution_state": "idle",
    "_uuid": "dbbe8626023d72d104f0179697fc85ebdc44dfe6"
   },
   "source": [
    "# References:\n",
    "\n",
    "**Notebook with full code**: https://www.kaggle.com/javierbravo/a-tour-of-the-oil-industry/\n",
    "\n",
    "**Oil price dataset downloaded from the U.S Energy Information administration.** ( https://www.eia.gov/dnav/pet/hist/LeafHandler.ashx?n=PET&s=rbrte&f=D)\n",
    "\n",
    "**Share Prices To download the dataset I use Yahoo finance**. The following link is an example to download Royal Dutch Shell share price dataset: https://uk.finance.yahoo.com/quote/RDSB.L/history?period1=946684800&period2=1499122800&interval=1d&filter=history&frequency=1d\n",
    "\n",
    "**Pandas**: https://pandas.pydata.org/pandas-docs/stable/10min.html\n",
    "\n",
    "**Seaborn**: https://seaborn.pydata.org/\n",
    "\n",
    "**Scikit Learn**: http://scikit-learn.org/stable/\n",
    "\n",
    "**Cluster analysis** - Basic concepts and algorithms https://www-users.cs.umn.edu/~kumar/dmbook/ch8.pdf"
   ]
  },
  {
   "cell_type": "code",
   "execution_count": null,
   "metadata": {
    "_cell_guid": "5b63ba57-d6c0-4bcc-a5e3-f796e1968ba6",
    "_execution_state": "idle",
    "_uuid": "2328f91d662900023cfce515234f65b8d64d8a93",
    "collapsed": true
   },
   "outputs": [],
   "source": []
  },
  {
   "cell_type": "code",
   "execution_count": null,
   "metadata": {
    "_cell_guid": "1be7398f-92ba-4b52-acc3-5d397d8d6965",
    "_execution_state": "idle",
    "_uuid": "7397a475336dce9eb0eae5ee15a086c2e4c3dd07",
    "collapsed": true
   },
   "outputs": [],
   "source": []
  }
 ],
 "metadata": {
  "kernelspec": {
   "display_name": "Python [conda env:interncv]",
   "language": "python",
   "name": "conda-env-interncv-py"
  },
  "language_info": {
   "codemirror_mode": {
    "name": "ipython",
    "version": 3
   },
   "file_extension": ".py",
   "mimetype": "text/x-python",
   "name": "python",
   "nbconvert_exporter": "python",
   "pygments_lexer": "ipython3",
   "version": "3.6.12"
  }
 },
 "nbformat": 4,
 "nbformat_minor": 4
}
